{
  "nbformat": 4,
  "nbformat_minor": 0,
  "metadata": {
    "colab": {
      "provenance": []
    },
    "kernelspec": {
      "name": "python3",
      "display_name": "Python 3"
    },
    "language_info": {
      "name": "python"
    }
  },
  "cells": [
    {
      "cell_type": "code",
      "execution_count": null,
      "metadata": {
        "colab": {
          "base_uri": "https://localhost:8080/"
        },
        "id": "zxC2KoYcRzlF",
        "outputId": "13ab72ec-2922-42a1-bf10-5e98ebd7795d"
      },
      "outputs": [
        {
          "output_type": "stream",
          "name": "stdout",
          "text": [
            "Minimax result: 25\n"
          ]
        }
      ],
      "source": [
        "class Node:\n",
        "    def __init__(self, value, children=None):\n",
        "        self.value = value\n",
        "        self.children = children if children else []\n",
        "\n",
        "def minimax(node, depth, maximizing_player):\n",
        "    if depth == 0 or not node.children:\n",
        "        return node.value\n",
        "\n",
        "    if maximizing_player:\n",
        "        max_eval = float('-inf')\n",
        "        for child in node.children:\n",
        "            eval_child = minimax(child, depth - 1, False)\n",
        "            max_eval = max(max_eval, eval_child)\n",
        "        return max_eval\n",
        "    else:\n",
        "        min_eval = float('inf')\n",
        "        for child in node.children:\n",
        "            eval_child = minimax(child, depth - 1, True)\n",
        "            min_eval = min(min_eval, eval_child)\n",
        "        return min_eval\n",
        "\n",
        "# Creating the tree structure\n",
        "node_1 = Node(1, [Node(2, [Node(10), Node(12)]), Node(3, [Node(25), Node(36)])])\n",
        "\n",
        "# Performing minimax on the initial state\n",
        "result = minimax(node_1, depth=2, maximizing_player=True)\n",
        "print(\"Minimax result:\", result)\n"
      ]
    }
  ]
}